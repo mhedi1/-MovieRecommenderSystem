{
 "cells": [
  {
   "cell_type": "markdown",
   "metadata": {},
   "source": [
    "# Notebook 1: Data Loading & Exploration\n",
    "\n",
    "**Movie Recommendation System**  \n",
    "Author: Mohamed Hedi Foughai\n",
    "\n",
    "Initial exploration of the MovieLens 25M dataset."
   ]
  },
  {
   "cell_type": "code",
   "execution_count": 1,
   "metadata": {},
   "outputs": [],
   "source": [
    "# Imports\n",
    "import pandas as pd\n",
    "import numpy as np\n",
    "import matplotlib.pyplot as plt\n",
    "import seaborn as sns\n",
    "from datetime import datetime\n",
    "from collections import Counter\n",
    "import os\n",
    "import warnings\n",
    "import json\n",
    "\n",
    "warnings.filterwarnings('ignore')\n",
    "pd.set_option('display.float_format', '{:.2f}'.format)\n",
    "sns.set_style('whitegrid')\n",
    "plt.rcParams['figure.figsize'] = (12, 6)"
   ]
  },
  {
   "cell_type": "markdown",
   "metadata": {},
   "source": [
    "## 1. Setup & Load Data"
   ]
  },
  {
   "cell_type": "code",
   "execution_count": 2,
   "metadata": {},
   "outputs": [
    {
     "name": "stdout",
     "output_type": "stream",
     "text": [
      "Current directory: c:\\Users\\mhfou\\Documents\\MovieRecommenderSystem\\notebooks\n",
      "Project root: c:\\Users\\mhfou\\Documents\\MovieRecommenderSystem\n",
      "Looking for data in: c:\\Users\\mhfou\\Documents\\MovieRecommenderSystem\\data\\raw\n",
      "\n",
      "Ratings: 25,000,095 rows\n",
      "Movies: 62,423 rows\n",
      "Tags: 1,093,360 rows\n",
      "Links: 62,423 rows\n"
     ]
    }
   ],
   "source": [
    "# Setup paths\n",
    "BASE_DIR = os.path.dirname(os.getcwd())\n",
    "RAW_DIR = os.path.join(BASE_DIR, 'data', 'raw')\n",
    "PROCESSED_DIR = os.path.join(BASE_DIR, 'data', 'processed')\n",
    "\n",
    "os.makedirs(PROCESSED_DIR, exist_ok=True)\n",
    "\n",
    "print(f\"Current directory: {os.getcwd()}\")\n",
    "print(f\"Project root: {BASE_DIR}\")\n",
    "print(f\"Looking for data in: {RAW_DIR}\")\n",
    "\n",
    "# Load datasets\n",
    "ratings = pd.read_csv(os.path.join(RAW_DIR, 'ratings.csv'))\n",
    "movies = pd.read_csv(os.path.join(RAW_DIR, 'movies.csv'))\n",
    "tags = pd.read_csv(os.path.join(RAW_DIR, 'tags.csv'))\n",
    "links = pd.read_csv(os.path.join(RAW_DIR, 'links.csv'))\n",
    "\n",
    "print(f\"\\nRatings: {ratings.shape[0]:,} rows\")\n",
    "print(f\"Movies: {movies.shape[0]:,} rows\")\n",
    "print(f\"Tags: {tags.shape[0]:,} rows\")\n",
    "print(f\"Links: {links.shape[0]:,} rows\")"
   ]
  },
  {
   "cell_type": "code",
   "execution_count": 13,
   "metadata": {},
   "outputs": [
    {
     "name": "stdout",
     "output_type": "stream",
     "text": [
      "Ratings:\n"
     ]
    },
    {
     "data": {
      "text/html": [
       "<div>\n",
       "<style scoped>\n",
       "    .dataframe tbody tr th:only-of-type {\n",
       "        vertical-align: middle;\n",
       "    }\n",
       "\n",
       "    .dataframe tbody tr th {\n",
       "        vertical-align: top;\n",
       "    }\n",
       "\n",
       "    .dataframe thead th {\n",
       "        text-align: right;\n",
       "    }\n",
       "</style>\n",
       "<table border=\"1\" class=\"dataframe\">\n",
       "  <thead>\n",
       "    <tr style=\"text-align: right;\">\n",
       "      <th></th>\n",
       "      <th>userId</th>\n",
       "      <th>movieId</th>\n",
       "      <th>rating</th>\n",
       "      <th>timestamp</th>\n",
       "      <th>datetime</th>\n",
       "      <th>year</th>\n",
       "    </tr>\n",
       "  </thead>\n",
       "  <tbody>\n",
       "    <tr>\n",
       "      <th>0</th>\n",
       "      <td>1</td>\n",
       "      <td>296</td>\n",
       "      <td>5.00</td>\n",
       "      <td>1147880044</td>\n",
       "      <td>2006-05-17 15:34:04</td>\n",
       "      <td>2006</td>\n",
       "    </tr>\n",
       "    <tr>\n",
       "      <th>1</th>\n",
       "      <td>1</td>\n",
       "      <td>306</td>\n",
       "      <td>3.50</td>\n",
       "      <td>1147868817</td>\n",
       "      <td>2006-05-17 12:26:57</td>\n",
       "      <td>2006</td>\n",
       "    </tr>\n",
       "    <tr>\n",
       "      <th>2</th>\n",
       "      <td>1</td>\n",
       "      <td>307</td>\n",
       "      <td>5.00</td>\n",
       "      <td>1147868828</td>\n",
       "      <td>2006-05-17 12:27:08</td>\n",
       "      <td>2006</td>\n",
       "    </tr>\n",
       "    <tr>\n",
       "      <th>3</th>\n",
       "      <td>1</td>\n",
       "      <td>665</td>\n",
       "      <td>5.00</td>\n",
       "      <td>1147878820</td>\n",
       "      <td>2006-05-17 15:13:40</td>\n",
       "      <td>2006</td>\n",
       "    </tr>\n",
       "    <tr>\n",
       "      <th>4</th>\n",
       "      <td>1</td>\n",
       "      <td>899</td>\n",
       "      <td>3.50</td>\n",
       "      <td>1147868510</td>\n",
       "      <td>2006-05-17 12:21:50</td>\n",
       "      <td>2006</td>\n",
       "    </tr>\n",
       "  </tbody>\n",
       "</table>\n",
       "</div>"
      ],
      "text/plain": [
       "   userId  movieId  rating   timestamp            datetime  year\n",
       "0       1      296    5.00  1147880044 2006-05-17 15:34:04  2006\n",
       "1       1      306    3.50  1147868817 2006-05-17 12:26:57  2006\n",
       "2       1      307    5.00  1147868828 2006-05-17 12:27:08  2006\n",
       "3       1      665    5.00  1147878820 2006-05-17 15:13:40  2006\n",
       "4       1      899    3.50  1147868510 2006-05-17 12:21:50  2006"
      ]
     },
     "metadata": {},
     "output_type": "display_data"
    },
    {
     "name": "stdout",
     "output_type": "stream",
     "text": [
      "\n",
      "Movies:\n"
     ]
    },
    {
     "data": {
      "text/html": [
       "<div>\n",
       "<style scoped>\n",
       "    .dataframe tbody tr th:only-of-type {\n",
       "        vertical-align: middle;\n",
       "    }\n",
       "\n",
       "    .dataframe tbody tr th {\n",
       "        vertical-align: top;\n",
       "    }\n",
       "\n",
       "    .dataframe thead th {\n",
       "        text-align: right;\n",
       "    }\n",
       "</style>\n",
       "<table border=\"1\" class=\"dataframe\">\n",
       "  <thead>\n",
       "    <tr style=\"text-align: right;\">\n",
       "      <th></th>\n",
       "      <th>movieId</th>\n",
       "      <th>title</th>\n",
       "      <th>genres</th>\n",
       "    </tr>\n",
       "  </thead>\n",
       "  <tbody>\n",
       "    <tr>\n",
       "      <th>0</th>\n",
       "      <td>1</td>\n",
       "      <td>Toy Story (1995)</td>\n",
       "      <td>Adventure|Animation|Children|Comedy|Fantasy</td>\n",
       "    </tr>\n",
       "    <tr>\n",
       "      <th>1</th>\n",
       "      <td>2</td>\n",
       "      <td>Jumanji (1995)</td>\n",
       "      <td>Adventure|Children|Fantasy</td>\n",
       "    </tr>\n",
       "    <tr>\n",
       "      <th>2</th>\n",
       "      <td>3</td>\n",
       "      <td>Grumpier Old Men (1995)</td>\n",
       "      <td>Comedy|Romance</td>\n",
       "    </tr>\n",
       "    <tr>\n",
       "      <th>3</th>\n",
       "      <td>4</td>\n",
       "      <td>Waiting to Exhale (1995)</td>\n",
       "      <td>Comedy|Drama|Romance</td>\n",
       "    </tr>\n",
       "    <tr>\n",
       "      <th>4</th>\n",
       "      <td>5</td>\n",
       "      <td>Father of the Bride Part II (1995)</td>\n",
       "      <td>Comedy</td>\n",
       "    </tr>\n",
       "  </tbody>\n",
       "</table>\n",
       "</div>"
      ],
      "text/plain": [
       "   movieId                               title  \\\n",
       "0        1                    Toy Story (1995)   \n",
       "1        2                      Jumanji (1995)   \n",
       "2        3             Grumpier Old Men (1995)   \n",
       "3        4            Waiting to Exhale (1995)   \n",
       "4        5  Father of the Bride Part II (1995)   \n",
       "\n",
       "                                        genres  \n",
       "0  Adventure|Animation|Children|Comedy|Fantasy  \n",
       "1                   Adventure|Children|Fantasy  \n",
       "2                               Comedy|Romance  \n",
       "3                         Comedy|Drama|Romance  \n",
       "4                                       Comedy  "
      ]
     },
     "metadata": {},
     "output_type": "display_data"
    },
    {
     "name": "stdout",
     "output_type": "stream",
     "text": [
      "\n",
      "Tags:\n"
     ]
    },
    {
     "data": {
      "text/html": [
       "<div>\n",
       "<style scoped>\n",
       "    .dataframe tbody tr th:only-of-type {\n",
       "        vertical-align: middle;\n",
       "    }\n",
       "\n",
       "    .dataframe tbody tr th {\n",
       "        vertical-align: top;\n",
       "    }\n",
       "\n",
       "    .dataframe thead th {\n",
       "        text-align: right;\n",
       "    }\n",
       "</style>\n",
       "<table border=\"1\" class=\"dataframe\">\n",
       "  <thead>\n",
       "    <tr style=\"text-align: right;\">\n",
       "      <th></th>\n",
       "      <th>userId</th>\n",
       "      <th>movieId</th>\n",
       "      <th>tag</th>\n",
       "      <th>timestamp</th>\n",
       "    </tr>\n",
       "  </thead>\n",
       "  <tbody>\n",
       "    <tr>\n",
       "      <th>0</th>\n",
       "      <td>3</td>\n",
       "      <td>260</td>\n",
       "      <td>classic</td>\n",
       "      <td>1439472355</td>\n",
       "    </tr>\n",
       "    <tr>\n",
       "      <th>1</th>\n",
       "      <td>3</td>\n",
       "      <td>260</td>\n",
       "      <td>sci-fi</td>\n",
       "      <td>1439472256</td>\n",
       "    </tr>\n",
       "    <tr>\n",
       "      <th>2</th>\n",
       "      <td>4</td>\n",
       "      <td>1732</td>\n",
       "      <td>dark comedy</td>\n",
       "      <td>1573943598</td>\n",
       "    </tr>\n",
       "    <tr>\n",
       "      <th>3</th>\n",
       "      <td>4</td>\n",
       "      <td>1732</td>\n",
       "      <td>great dialogue</td>\n",
       "      <td>1573943604</td>\n",
       "    </tr>\n",
       "    <tr>\n",
       "      <th>4</th>\n",
       "      <td>4</td>\n",
       "      <td>7569</td>\n",
       "      <td>so bad it's good</td>\n",
       "      <td>1573943455</td>\n",
       "    </tr>\n",
       "  </tbody>\n",
       "</table>\n",
       "</div>"
      ],
      "text/plain": [
       "   userId  movieId               tag   timestamp\n",
       "0       3      260           classic  1439472355\n",
       "1       3      260            sci-fi  1439472256\n",
       "2       4     1732       dark comedy  1573943598\n",
       "3       4     1732    great dialogue  1573943604\n",
       "4       4     7569  so bad it's good  1573943455"
      ]
     },
     "metadata": {},
     "output_type": "display_data"
    },
    {
     "name": "stdout",
     "output_type": "stream",
     "text": [
      "\n",
      "Links (IMDB/TMDB IDs):\n"
     ]
    },
    {
     "data": {
      "text/html": [
       "<div>\n",
       "<style scoped>\n",
       "    .dataframe tbody tr th:only-of-type {\n",
       "        vertical-align: middle;\n",
       "    }\n",
       "\n",
       "    .dataframe tbody tr th {\n",
       "        vertical-align: top;\n",
       "    }\n",
       "\n",
       "    .dataframe thead th {\n",
       "        text-align: right;\n",
       "    }\n",
       "</style>\n",
       "<table border=\"1\" class=\"dataframe\">\n",
       "  <thead>\n",
       "    <tr style=\"text-align: right;\">\n",
       "      <th></th>\n",
       "      <th>movieId</th>\n",
       "      <th>imdbId</th>\n",
       "      <th>tmdbId</th>\n",
       "    </tr>\n",
       "  </thead>\n",
       "  <tbody>\n",
       "    <tr>\n",
       "      <th>0</th>\n",
       "      <td>1</td>\n",
       "      <td>114709</td>\n",
       "      <td>862.00</td>\n",
       "    </tr>\n",
       "    <tr>\n",
       "      <th>1</th>\n",
       "      <td>2</td>\n",
       "      <td>113497</td>\n",
       "      <td>8844.00</td>\n",
       "    </tr>\n",
       "    <tr>\n",
       "      <th>2</th>\n",
       "      <td>3</td>\n",
       "      <td>113228</td>\n",
       "      <td>15602.00</td>\n",
       "    </tr>\n",
       "    <tr>\n",
       "      <th>3</th>\n",
       "      <td>4</td>\n",
       "      <td>114885</td>\n",
       "      <td>31357.00</td>\n",
       "    </tr>\n",
       "    <tr>\n",
       "      <th>4</th>\n",
       "      <td>5</td>\n",
       "      <td>113041</td>\n",
       "      <td>11862.00</td>\n",
       "    </tr>\n",
       "  </tbody>\n",
       "</table>\n",
       "</div>"
      ],
      "text/plain": [
       "   movieId  imdbId   tmdbId\n",
       "0        1  114709   862.00\n",
       "1        2  113497  8844.00\n",
       "2        3  113228 15602.00\n",
       "3        4  114885 31357.00\n",
       "4        5  113041 11862.00"
      ]
     },
     "metadata": {},
     "output_type": "display_data"
    }
   ],
   "source": [
    "# View data structure\n",
    "print(\"Ratings:\")\n",
    "display(ratings.head())\n",
    "print(\"\\nMovies:\")\n",
    "display(movies.head())\n",
    "print(\"\\nTags:\")\n",
    "display(tags.head())\n",
    "print(\"\\nLinks (IMDB/TMDB IDs):\")\n",
    "display(links.head())"
   ]
  },
  {
   "cell_type": "markdown",
   "metadata": {},
   "source": [
    "## 2. Dataset Statistics"
   ]
  },
  {
   "cell_type": "code",
   "execution_count": 4,
   "metadata": {},
   "outputs": [
    {
     "name": "stdout",
     "output_type": "stream",
     "text": [
      "Total ratings: 25,000,095\n",
      "Unique users: 162,541\n",
      "Unique movies: 59,047\n",
      "Matrix sparsity: 99.74%\n",
      "\n",
      "Mean rating: 3.53\n",
      "Median rating: 3.50\n",
      "\n",
      "Rating distribution:\n",
      "rating\n",
      "0.50     393068\n",
      "1.00     776815\n",
      "1.50     399490\n",
      "2.00    1640868\n",
      "2.50    1262797\n",
      "3.00    4896928\n",
      "3.50    3177318\n",
      "4.00    6639798\n",
      "4.50    2200539\n",
      "5.00    3612474\n",
      "Name: count, dtype: int64\n"
     ]
    }
   ],
   "source": [
    "# Calculate key metrics\n",
    "n_ratings = len(ratings)\n",
    "n_users = ratings['userId'].nunique()\n",
    "n_movies = ratings['movieId'].nunique()\n",
    "matrix_size = n_users * n_movies\n",
    "sparsity = (1 - n_ratings / matrix_size) * 100\n",
    "\n",
    "print(f\"Total ratings: {n_ratings:,}\")\n",
    "print(f\"Unique users: {n_users:,}\")\n",
    "print(f\"Unique movies: {n_movies:,}\")\n",
    "print(f\"Matrix sparsity: {sparsity:.2f}%\")\n",
    "print(f\"\\nMean rating: {ratings['rating'].mean():.2f}\")\n",
    "print(f\"Median rating: {ratings['rating'].median():.2f}\")\n",
    "print(f\"\\nRating distribution:\")\n",
    "print(ratings['rating'].value_counts().sort_index())"
   ]
  },
  {
   "cell_type": "code",
   "execution_count": 5,
   "metadata": {},
   "outputs": [
    {
     "data": {
      "image/png": "[encoded data removed]",
      "text/plain": [
       "<Figure size 1000x500 with 1 Axes>"
      ]
     },
     "metadata": {},
     "output_type": "display_data"
    }
   ],
   "source": [
    "# Visualize rating distribution\n",
    "plt.figure(figsize=(10, 5))\n",
    "ratings['rating'].value_counts().sort_index().plot(kind='bar', color='steelblue')\n",
    "plt.title('Rating Distribution')\n",
    "plt.xlabel('Rating')\n",
    "plt.ylabel('Count')\n",
    "plt.xticks(rotation=0)\n",
    "plt.tight_layout()\n",
    "plt.show()"
   ]
  },
  {
   "cell_type": "markdown",
   "metadata": {},
   "source": [
    "## 3. User & Movie Activity"
   ]
  },
  {
   "cell_type": "code",
   "execution_count": 5,
   "metadata": {},
   "outputs": [
    {
     "name": "stdout",
     "output_type": "stream",
     "text": [
      "User activity:\n",
      "count   162541.00\n",
      "mean       153.81\n",
      "std        268.05\n",
      "min         20.00\n",
      "25%         36.00\n",
      "50%         71.00\n",
      "75%        162.00\n",
      "max      32202.00\n",
      "dtype: float64\n",
      "\n",
      "Movie popularity:\n",
      "count   59047.00\n",
      "mean      423.39\n",
      "std      2477.89\n",
      "min         1.00\n",
      "25%         2.00\n",
      "50%         6.00\n",
      "75%        36.00\n",
      "max     81491.00\n",
      "dtype: float64\n"
     ]
    }
   ],
   "source": [
    "# User and movie statistics\n",
    "user_counts = ratings.groupby('userId').size()\n",
    "movie_counts = ratings.groupby('movieId').size()\n",
    "\n",
    "print(\"User activity:\")\n",
    "print(user_counts.describe())\n",
    "print(f\"\\nMovie popularity:\")\n",
    "print(movie_counts.describe())"
   ]
  },
  {
   "cell_type": "code",
   "execution_count": 6,
   "metadata": {},
   "outputs": [
    {
     "name": "stdout",
     "output_type": "stream",
     "text": [
      "Top 10 most rated movies:\n",
      " 1. Forrest Gump (1994)                           81,491\n",
      " 2. Shawshank Redemption, The (1994)              81,482\n",
      " 3. Pulp Fiction (1994)                           79,672\n",
      " 4. Silence of the Lambs, The (1991)              74,127\n",
      " 5. Matrix, The (1999)                            72,674\n",
      " 6. Star Wars: Episode IV - A New Hope (1977)     68,717\n",
      " 7. Jurassic Park (1993)                          64,144\n",
      " 8. Schindler's List (1993)                       60,411\n",
      " 9. Braveheart (1995)                             59,184\n",
      "10. Fight Club (1999)                             58,773\n"
     ]
    }
   ],
   "source": [
    "# Top 10 most rated movies\n",
    "top_movies = movie_counts.nlargest(10)\n",
    "movie_titles = movies.set_index('movieId')['title']\n",
    "\n",
    "print(\"Top 10 most rated movies:\")\n",
    "for i, (movie_id, count) in enumerate(top_movies.items(), 1):\n",
    "    print(f\"{i:2d}. {movie_titles[movie_id]:45s} {count:>6,}\")"
   ]
  },
  {
   "cell_type": "markdown",
   "metadata": {},
   "source": [
    "## 4. Genre Analysis"
   ]
  },
  {
   "cell_type": "code",
   "execution_count": 7,
   "metadata": {},
   "outputs": [
    {
     "name": "stdout",
     "output_type": "stream",
     "text": [
      "Total unique genres: 19\n",
      "\n",
      "Top 10 genres:\n",
      "Drama          : 25,606 ( 41.0%)\n",
      "Comedy         : 16,870 ( 27.0%)\n",
      "Thriller       : 8,654 ( 13.9%)\n",
      "Romance        : 7,719 ( 12.4%)\n",
      "Action         : 7,348 ( 11.8%)\n",
      "Horror         : 5,989 (  9.6%)\n",
      "Documentary    : 5,605 (  9.0%)\n",
      "Crime          : 5,319 (  8.5%)\n",
      "Adventure      : 4,145 (  6.6%)\n",
      "Sci-Fi         : 3,595 (  5.8%)\n"
     ]
    }
   ],
   "source": [
    "# Extract and count genres\n",
    "all_genres = []\n",
    "for genres in movies['genres']:\n",
    "    if genres != '(no genres listed)':\n",
    "        all_genres.extend(genres.split('|'))\n",
    "\n",
    "genre_counts = Counter(all_genres)\n",
    "\n",
    "print(f\"Total unique genres: {len(genre_counts)}\")\n",
    "print(f\"\\nTop 10 genres:\")\n",
    "for genre, count in genre_counts.most_common(10):\n",
    "    print(f\"{genre:15s}: {count:>5,} ({count/len(movies)*100:5.1f}%)\")"
   ]
  },
  {
   "cell_type": "code",
   "execution_count": 9,
   "metadata": {},
   "outputs": [
    {
     "data": {
      "image/png": "[encoded data removed]",
      "text/plain": [
       "<Figure size 1000x600 with 1 Axes>"
      ]
     },
     "metadata": {},
     "output_type": "display_data"
    }
   ],
   "source": [
    "# Visualize top genres\n",
    "top_genres = pd.Series(dict(genre_counts.most_common(10)))\n",
    "\n",
    "plt.figure(figsize=(10, 6))\n",
    "top_genres.plot(kind='barh', color='steelblue')\n",
    "plt.title('Top 10 Genres')\n",
    "plt.xlabel('Number of Movies')\n",
    "plt.gca().invert_yaxis()\n",
    "plt.tight_layout()\n",
    "plt.show()"
   ]
  },
  {
   "cell_type": "markdown",
   "metadata": {},
   "source": [
    "## 5. Tag Analysis"
   ]
  },
  {
   "cell_type": "code",
   "execution_count": 8,
   "metadata": {},
   "outputs": [
    {
     "name": "stdout",
     "output_type": "stream",
     "text": [
      "Total tags: 1,093,360\n",
      "Unique tags: 73,050\n",
      "Movies with tags: 45,251\n",
      "\n",
      "Top 15 tags:\n",
      "tag\n",
      "sci-fi                8330\n",
      "atmospheric           6516\n",
      "action                5907\n",
      "comedy                5702\n",
      "surreal               5326\n",
      "based on a book       5079\n",
      "twist ending          4820\n",
      "funny                 4738\n",
      "visually appealing    4526\n",
      "dystopia              4257\n",
      "dark comedy           4026\n",
      "BD-R                  3966\n",
      "thought-provoking     3844\n",
      "romance               3791\n",
      "stylized              3728\n",
      "Name: count, dtype: int64\n"
     ]
    }
   ],
   "source": [
    "# Tag statistics\n",
    "print(f\"Total tags: {len(tags):,}\")\n",
    "print(f\"Unique tags: {tags['tag'].nunique():,}\")\n",
    "print(f\"Movies with tags: {tags['movieId'].nunique():,}\")\n",
    "print(f\"\\nTop 15 tags:\")\n",
    "print(tags['tag'].value_counts().head(15))"
   ]
  },
  {
   "cell_type": "markdown",
   "metadata": {},
   "source": [
    "## 6. Temporal Patterns"
   ]
  },
  {
   "cell_type": "code",
   "execution_count": 9,
   "metadata": {},
   "outputs": [
    {
     "name": "stdout",
     "output_type": "stream",
     "text": [
      "Date range: 1995-01-09 11:46:49 to 2019-11-21 09:15:03\n",
      "Years covered: 25\n"
     ]
    }
   ],
   "source": [
    "# Convert timestamps and extract time features\n",
    "ratings['datetime'] = pd.to_datetime(ratings['timestamp'], unit='s')\n",
    "ratings['year'] = ratings['datetime'].dt.year\n",
    "\n",
    "print(f\"Date range: {ratings['datetime'].min()} to {ratings['datetime'].max()}\")\n",
    "print(f\"Years covered: {ratings['year'].max() - ratings['year'].min() + 1}\")"
   ]
  },
  {
   "cell_type": "code",
   "execution_count": 12,
   "metadata": {},
   "outputs": [
    {
     "data": {
      "image/png": "[encoded data removed]",
      "text/plain": [
       "<Figure size 1200x500 with 1 Axes>"
      ]
     },
     "metadata": {},
     "output_type": "display_data"
    }
   ],
   "source": [
    "# Yearly trends\n",
    "yearly = ratings.groupby('year').size()\n",
    "\n",
    "plt.figure(figsize=(12, 5))\n",
    "yearly.plot(kind='line', marker='o', color='steelblue')\n",
    "plt.title('Ratings per Year')\n",
    "plt.xlabel('Year')\n",
    "plt.ylabel('Number of Ratings')\n",
    "plt.grid(True, alpha=0.3)\n",
    "plt.tight_layout()\n",
    "plt.show()"
   ]
  },
  {
   "cell_type": "markdown",
   "metadata": {},
   "source": [
    "## 7. Data Quality"
   ]
  },
  {
   "cell_type": "code",
   "execution_count": 10,
   "metadata": {},
   "outputs": [
    {
     "name": "stdout",
     "output_type": "stream",
     "text": [
      "Missing values:\n",
      "Ratings: 0\n",
      "Movies: 0\n",
      "Tags: 16\n",
      "\n",
      "Duplicate ratings: 0\n",
      "Invalid ratings: 0\n",
      "Movies without genres: 5062\n"
     ]
    }
   ],
   "source": [
    "# Quality checks\n",
    "print(\"Missing values:\")\n",
    "print(f\"Ratings: {ratings.isnull().sum().sum()}\")\n",
    "print(f\"Movies: {movies.isnull().sum().sum()}\")\n",
    "print(f\"Tags: {tags.isnull().sum().sum()}\")\n",
    "\n",
    "print(f\"\\nDuplicate ratings: {ratings.duplicated(subset=['userId', 'movieId']).sum()}\")\n",
    "print(f\"Invalid ratings: {((ratings['rating'] < 0.5) | (ratings['rating'] > 5)).sum()}\")\n",
    "print(f\"Movies without genres: {(movies['genres'] == '(no genres listed)').sum()}\")"
   ]
  },
  {
   "cell_type": "markdown",
   "metadata": {},
   "source": [
    "## 8. Summary"
   ]
  },
  {
   "cell_type": "code",
   "execution_count": 11,
   "metadata": {},
   "outputs": [
    {
     "name": "stdout",
     "output_type": "stream",
     "text": [
      "KEY FINDINGS:\n",
      "- 25,000,095 ratings from 162,541 users on 59,047 movies\n",
      "- Matrix sparsity: 99.74% (high cold-start challenge)\n",
      "- Mean rating: 3.53/5.0\n",
      "- 19 genres, 73,050 unique tags\n",
      "- Dataset spans 25 years\n",
      "- Data quality: Excellent (no missing values or duplicates)\n",
      "\n",
      "Ready for preprocessing and feature engineering.\n"
     ]
    }
   ],
   "source": [
    "# Create and save summary\n",
    "summary = {\n",
    "    'total_ratings': int(n_ratings),\n",
    "    'unique_users': int(n_users),\n",
    "    'unique_movies': int(n_movies),\n",
    "    'sparsity_percent': float(sparsity),\n",
    "    'mean_rating': float(ratings['rating'].mean()),\n",
    "    'unique_genres': int(len(genre_counts)),\n",
    "    'unique_tags': int(tags['tag'].nunique()),\n",
    "    'date_range': f\"{ratings['datetime'].min()} to {ratings['datetime'].max()}\"\n",
    "}\n",
    "\n",
    "# Save to JSON\n",
    "with open(os.path.join(PROCESSED_DIR, 'dataset_summary.json'), 'w') as f:\n",
    "    json.dump(summary, f, indent=2, default=str)\n",
    "\n",
    "# Print key findings\n",
    "print(\"KEY FINDINGS:\")\n",
    "print(f\"- {n_ratings:,} ratings from {n_users:,} users on {n_movies:,} movies\")\n",
    "print(f\"- Matrix sparsity: {sparsity:.2f}% (high cold-start challenge)\")\n",
    "print(f\"- Mean rating: {ratings['rating'].mean():.2f}/5.0\")\n",
    "print(f\"- {len(genre_counts)} genres, {tags['tag'].nunique():,} unique tags\")\n",
    "print(f\"- Dataset spans {ratings['year'].max() - ratings['year'].min() + 1} years\")\n",
    "print(f\"- Data quality: Excellent (no missing values or duplicates)\")\n",
    "print(f\"\\nReady for preprocessing and feature engineering.\")"
   ]
  },
  {
   "cell_type": "code",
   "execution_count": null,
   "metadata": {},
   "outputs": [],
   "source": []
  }
 ],
 "metadata": {
  "kernelspec": {
   "display_name": "venv",
   "language": "python",
   "name": "python3"
  },
  "language_info": {
   "codemirror_mode": {
    "name": "ipython",
    "version": 3
   },
   "file_extension": ".py",
   "mimetype": "text/x-python",
   "name": "python",
   "nbconvert_exporter": "python",
   "pygments_lexer": "ipython3",
   "version": "3.13.5"
  }
 },
 "nbformat": 4,
 "nbformat_minor": 4
}

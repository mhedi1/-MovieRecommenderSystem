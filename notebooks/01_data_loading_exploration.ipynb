{
 "cells": [
  {
   "cell_type": "markdown",
   "metadata": {},
   "source": [
    "# Notebook 1: Data Loading & Exploration\n",
    "\n",
    "**Movie Recommendation System**  \n",
    "Author: Mohamed Hedi Foughai\n",
    "\n",
    "Initial exploration of the MovieLens 25M dataset."
   ]
  },
  {
   "cell_type": "code",
   "execution_count": null,
   "metadata": {},
   "outputs": [],
   "source": [
    "# Imports\n",
    "import pandas as pd\n",
    "import numpy as np\n",
    "import matplotlib.pyplot as plt\n",
    "import seaborn as sns\n",
    "from datetime import datetime\n",
    "from collections import Counter\n",
    "import os\n",
    "import warnings\n",
    "import json\n",
    "\n",
    "warnings.filterwarnings('ignore')\n",
    "pd.set_option('display.float_format', '{:.2f}'.format)\n",
    "sns.set_style('whitegrid')\n",
    "plt.rcParams['figure.figsize'] = (12, 6)"
   ]
  },
  {
   "cell_type": "markdown",
   "metadata": {},
   "source": [
    "## 1. Setup & Load Data"
   ]
  },
  {
   "cell_type": "code",
   "execution_count": null,
   "metadata": {},
   "outputs": [],
   "source": [
    "# Setup paths\n",
    "# Check if we're in notebooks/ folder or project root\n",
    "if os.path.basename(os.getcwd()) == 'notebooks':\n",
    "    BASE_DIR = os.path.dirname(os.getcwd())  # Go up from notebooks/ to project root\n",
    "else:\n",
    "    BASE_DIR = os.getcwd()  # Already in project root\n",
    "\n",
    "RAW_DIR = os.path.join(BASE_DIR, 'data', 'raw')\n",
    "PROCESSED_DIR = os.path.join(BASE_DIR, 'data', 'processed')\n",
    "\n",
    "os.makedirs(PROCESSED_DIR, exist_ok=True)\n",
    "\n",
    "print(f\"Current directory: {os.getcwd()}\")\n",
    "print(f\"Project root: {BASE_DIR}\")\n",
    "print(f\"Looking for data in: {RAW_DIR}\")\n",
    "\n",
    "# Load datasets\n",
    "ratings = pd.read_csv(os.path.join(RAW_DIR, 'ratings.csv'))\n",
    "movies = pd.read_csv(os.path.join(RAW_DIR, 'movies.csv'))\n",
    "tags = pd.read_csv(os.path.join(RAW_DIR, 'tags.csv'))\n",
    "links = pd.read_csv(os.path.join(RAW_DIR, 'links.csv'))\n",
    "\n",
    "print(f\"\\nRatings: {ratings.shape[0]:,} rows\")\n",
    "print(f\"Movies: {movies.shape[0]:,} rows\")\n",
    "print(f\"Tags: {tags.shape[0]:,} rows\")\n",
    "print(f\"Links: {links.shape[0]:,} rows\")"
   ]
  },
  {
   "cell_type": "code",
   "execution_count": null,
   "metadata": {},
   "outputs": [],
   "source": [
    "# View data structure\n",
    "print(\"Ratings:\")\n",
    "display(ratings.head())\n",
    "print(\"\\nMovies:\")\n",
    "display(movies.head())\n",
    "print(\"\\nTags:\")\n",
    "display(tags.head())\n",
    "print(\"\\nLinks (IMDB/TMDB IDs):\")\n",
    "display(links.head())"
   ]
  },
  {
   "cell_type": "markdown",
   "metadata": {},
   "source": [
    "## 2. Dataset Statistics"
   ]
  },
  {
   "cell_type": "code",
   "execution_count": null,
   "metadata": {},
   "outputs": [],
   "source": [
    "# Calculate key metrics\n",
    "n_ratings = len(ratings)\n",
    "n_users = ratings['userId'].nunique()\n",
    "n_movies = ratings['movieId'].nunique()\n",
    "matrix_size = n_users * n_movies\n",
    "sparsity = (1 - n_ratings / matrix_size) * 100\n",
    "\n",
    "print(f\"Total ratings: {n_ratings:,}\")\n",
    "print(f\"Unique users: {n_users:,}\")\n",
    "print(f\"Unique movies: {n_movies:,}\")\n",
    "print(f\"Matrix sparsity: {sparsity:.2f}%\")\n",
    "print(f\"\\nMean rating: {ratings['rating'].mean():.2f}\")\n",
    "print(f\"Median rating: {ratings['rating'].median():.2f}\")\n",
    "print(f\"\\nRating distribution:\")\n",
    "print(ratings['rating'].value_counts().sort_index())"
   ]
  },
  {
   "cell_type": "code",
   "execution_count": null,
   "metadata": {},
   "outputs": [],
   "source": [
    "# Visualize rating distribution\n",
    "plt.figure(figsize=(10, 5))\n",
    "ratings['rating'].value_counts().sort_index().plot(kind='bar', color='steelblue')\n",
    "plt.title('Rating Distribution')\n",
    "plt.xlabel('Rating')\n",
    "plt.ylabel('Count')\n",
    "plt.xticks(rotation=0)\n",
    "plt.tight_layout()\n",
    "plt.show()"
   ]
  },
  {
   "cell_type": "markdown",
   "metadata": {},
   "source": [
    "## 3. User & Movie Activity"
   ]
  },
  {
   "cell_type": "code",
   "execution_count": null,
   "metadata": {},
   "outputs": [],
   "source": [
    "# User and movie statistics\n",
    "user_counts = ratings.groupby('userId').size()\n",
    "movie_counts = ratings.groupby('movieId').size()\n",
    "\n",
    "print(\"User activity:\")\n",
    "print(user_counts.describe())\n",
    "print(f\"\\nMovie popularity:\")\n",
    "print(movie_counts.describe())"
   ]
  },
  {
   "cell_type": "code",
   "execution_count": null,
   "metadata": {},
   "outputs": [],
   "source": [
    "# Top 10 most rated movies\n",
    "top_movies = movie_counts.nlargest(10)\n",
    "movie_titles = movies.set_index('movieId')['title']\n",
    "\n",
    "print(\"Top 10 most rated movies:\")\n",
    "for i, (movie_id, count) in enumerate(top_movies.items(), 1):\n",
    "    print(f\"{i:2d}. {movie_titles[movie_id]:45s} {count:>6,}\")"
   ]
  },
  {
   "cell_type": "markdown",
   "metadata": {},
   "source": [
    "## 4. Genre Analysis"
   ]
  },
  {
   "cell_type": "code",
   "execution_count": null,
   "metadata": {},
   "outputs": [],
   "source": [
    "# Extract and count genres\n",
    "all_genres = []\n",
    "for genres in movies['genres']:\n",
    "    if genres != '(no genres listed)':\n",
    "        all_genres.extend(genres.split('|'))\n",
    "\n",
    "genre_counts = Counter(all_genres)\n",
    "\n",
    "print(f\"Total unique genres: {len(genre_counts)}\")\n",
    "print(f\"\\nTop 10 genres:\")\n",
    "for genre, count in genre_counts.most_common(10):\n",
    "    print(f\"{genre:15s}: {count:>5,} ({count/len(movies)*100:5.1f}%)\")"
   ]
  },
  {
   "cell_type": "code",
   "execution_count": null,
   "metadata": {},
   "outputs": [],
   "source": [
    "# Visualize top genres\n",
    "top_genres = pd.Series(dict(genre_counts.most_common(10)))\n",
    "\n",
    "plt.figure(figsize=(10, 6))\n",
    "top_genres.plot(kind='barh', color='steelblue')\n",
    "plt.title('Top 10 Genres')\n",
    "plt.xlabel('Number of Movies')\n",
    "plt.gca().invert_yaxis()\n",
    "plt.tight_layout()\n",
    "plt.show()"
   ]
  },
  {
   "cell_type": "markdown",
   "metadata": {},
   "source": [
    "## 5. Tag Analysis"
   ]
  },
  {
   "cell_type": "code",
   "execution_count": null,
   "metadata": {},
   "outputs": [],
   "source": [
    "# Tag statistics\n",
    "print(f\"Total tags: {len(tags):,}\")\n",
    "print(f\"Unique tags: {tags['tag'].nunique():,}\")\n",
    "print(f\"Movies with tags: {tags['movieId'].nunique():,}\")\n",
    "print(f\"\\nTop 15 tags:\")\n",
    "print(tags['tag'].value_counts().head(15))"
   ]
  },
  {
   "cell_type": "markdown",
   "metadata": {},
   "source": [
    "## 6. Temporal Patterns"
   ]
  },
  {
   "cell_type": "code",
   "execution_count": null,
   "metadata": {},
   "outputs": [],
   "source": [
    "# Convert timestamps and extract time features\n",
    "ratings['datetime'] = pd.to_datetime(ratings['timestamp'], unit='s')\n",
    "ratings['year'] = ratings['datetime'].dt.year\n",
    "\n",
    "print(f\"Date range: {ratings['datetime'].min()} to {ratings['datetime'].max()}\")\n",
    "print(f\"Years covered: {ratings['year'].max() - ratings['year'].min() + 1}\")"
   ]
  },
  {
   "cell_type": "code",
   "execution_count": null,
   "metadata": {},
   "outputs": [],
   "source": [
    "# Yearly trends\n",
    "yearly = ratings.groupby('year').size()\n",
    "\n",
    "plt.figure(figsize=(12, 5))\n",
    "yearly.plot(kind='line', marker='o', color='steelblue')\n",
    "plt.title('Ratings per Year')\n",
    "plt.xlabel('Year')\n",
    "plt.ylabel('Number of Ratings')\n",
    "plt.grid(True, alpha=0.3)\n",
    "plt.tight_layout()\n",
    "plt.show()"
   ]
  },
  {
   "cell_type": "markdown",
   "metadata": {},
   "source": [
    "## 7. Data Quality"
   ]
  },
  {
   "cell_type": "code",
   "execution_count": null,
   "metadata": {},
   "outputs": [],
   "source": [
    "# Quality checks\n",
    "print(\"Missing values:\")\n",
    "print(f\"Ratings: {ratings.isnull().sum().sum()}\")\n",
    "print(f\"Movies: {movies.isnull().sum().sum()}\")\n",
    "print(f\"Tags: {tags.isnull().sum().sum()}\")\n",
    "\n",
    "print(f\"\\nDuplicate ratings: {ratings.duplicated(subset=['userId', 'movieId']).sum()}\")\n",
    "print(f\"Invalid ratings: {((ratings['rating'] < 0.5) | (ratings['rating'] > 5)).sum()}\")\n",
    "print(f\"Movies without genres: {(movies['genres'] == '(no genres listed)').sum()}\")"
   ]
  },
  {
   "cell_type": "markdown",
   "metadata": {},
   "source": [
    "## 8. Summary"
   ]
  },
  {
   "cell_type": "code",
   "execution_count": null,
   "metadata": {},
   "outputs": [],
   "source": [
    "# Create and save summary\n",
    "summary = {\n",
    "    'total_ratings': int(n_ratings),\n",
    "    'unique_users': int(n_users),\n",
    "    'unique_movies': int(n_movies),\n",
    "    'sparsity_percent': float(sparsity),\n",
    "    'mean_rating': float(ratings['rating'].mean()),\n",
    "    'unique_genres': int(len(genre_counts)),\n",
    "    'unique_tags': int(tags['tag'].nunique()),\n",
    "    'date_range': f\"{ratings['datetime'].min()} to {ratings['datetime'].max()}\"\n",
    "}\n",
    "\n",
    "# Save to JSON\n",
    "with open(os.path.join(PROCESSED_DIR, 'dataset_summary.json'), 'w') as f:\n",
    "    json.dump(summary, f, indent=2, default=str)\n",
    "\n",
    "# Print key findings\n",
    "print(\"KEY FINDINGS:\")\n",
    "print(f\"- {n_ratings:,} ratings from {n_users:,} users on {n_movies:,} movies\")\n",
    "print(f\"- Matrix sparsity: {sparsity:.2f}% (high cold-start challenge)\")\n",
    "print(f\"- Mean rating: {ratings['rating'].mean():.2f}/5.0\")\n",
    "print(f\"- {len(genre_counts)} genres, {tags['tag'].nunique():,} unique tags\")\n",
    "print(f\"- Dataset spans {ratings['year'].max() - ratings['year'].min() + 1} years\")\n",
    "print(f\"- Data quality: Excellent (no missing values or duplicates)\")\n",
    "print(f\"\\nReady for preprocessing and feature engineering.\")"
   ]
  }
 ],
 "metadata": {
  "kernelspec": {
   "display_name": "Python 3",
   "language": "python",
   "name": "python3"
  },
  "language_info": {
   "name": "python",
   "version": "3.8.0"
  }
 },
 "nbformat": 4,
 "nbformat_minor": 4
}
